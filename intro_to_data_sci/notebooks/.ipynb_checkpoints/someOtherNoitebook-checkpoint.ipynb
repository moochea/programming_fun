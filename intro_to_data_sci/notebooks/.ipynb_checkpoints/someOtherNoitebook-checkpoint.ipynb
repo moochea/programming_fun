{
 "cells": [
  {
   "cell_type": "code",
   "execution_count": 1,
   "metadata": {
    "collapsed": true,
    "pycharm": {
     "is_executing": false
    }
   },
   "outputs": [
    {
     "name": "stdout",
     "output_type": "stream",
     "text": [
      "24\n"
     ]
    }
   ],
   "source": [
    "a=4\n",
    "b=5\n",
    "c=a*b + a\n",
    "print(c)\n"
   ]
  },
  {
   "cell_type": "markdown",
   "metadata": {},
   "source": [
    "# This is a title\n",
    "\n",
    "For some reason, this is not displaying....\n",
    "It seems to be displaying now"
   ]
  },
  {
   "cell_type": "code",
   "execution_count": 24,
   "metadata": {
    "pycharm": {
     "is_executing": false,
     "name": "#%%\n"
    }
   },
   "outputs": [
    {
     "name": "stdout",
     "output_type": "stream",
     "text": [
      "['(1, 3, 4)', '(tomato)', '(lamb, beef)']\n"
     ]
    }
   ],
   "source": [
    "import re\n",
    "text=\"some function: outer = sandwich(falafel(1, 3, 4), ham, bread, sauce(tomato), meat(lamb, beef))\"\n",
    "matches = re.findall(\"\\([0-9a-z,\\s]+\\)\", text)\n",
    "if matches: \n",
    "    print(matches)\n"
   ]
  },
  {
   "cell_type": "code",
   "execution_count": 29,
   "metadata": {},
   "outputs": [
    {
     "name": "stdout",
     "output_type": "stream",
     "text": [
      "(falafel(1, 3, 4)\n"
     ]
    }
   ],
   "source": [
    "matches=re.search(\"\\(.*?\\)\", text)\n",
    "if matches:\n",
    "    print(matches.group())"
   ]
  },
  {
   "cell_type": "code",
   "execution_count": null,
   "metadata": {},
   "outputs": [],
   "source": []
  },
  {
   "cell_type": "code",
   "execution_count": null,
   "metadata": {},
   "outputs": [],
   "source": []
  }
 ],
 "metadata": {
  "kernelspec": {
   "display_name": "Python 3 (ipykernel)",
   "language": "python",
   "name": "python3"
  },
  "language_info": {
   "codemirror_mode": {
    "name": "ipython",
    "version": 3
   },
   "file_extension": ".py",
   "mimetype": "text/x-python",
   "name": "python",
   "nbconvert_exporter": "python",
   "pygments_lexer": "ipython3",
   "version": "3.7.11"
  },
  "pycharm": {
   "stem_cell": {
    "cell_type": "raw",
    "metadata": {
     "collapsed": false
    },
    "source": []
   }
  }
 },
 "nbformat": 4,
 "nbformat_minor": 1
}
