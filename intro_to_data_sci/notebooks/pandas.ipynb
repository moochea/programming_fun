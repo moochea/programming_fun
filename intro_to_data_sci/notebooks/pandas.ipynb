{
 "cells": [
  {
   "cell_type": "code",
   "execution_count": 1,
   "metadata": {},
   "outputs": [
    {
     "name": "stdout",
     "output_type": "stream",
     "text": [
      "0       apple\n",
      "1        baby\n",
      "2         cot\n",
      "3         dog\n",
      "4    elephant\n",
      "dtype: object\n"
     ]
    }
   ],
   "source": [
    "import pandas as pd\n",
    "\n",
    "new_list = [\"apple\", \"baby\", \"cot\", \"dog\", \"elephant\"]\n",
    "\n",
    "series = pd.Series(new_list)\n",
    "\n",
    "print(series)\n",
    "print(series.dtype)"
   ]
  },
  {
   "cell_type": "code",
   "execution_count": 8,
   "metadata": {},
   "outputs": [
    {
     "name": "stdout",
     "output_type": "stream",
     "text": [
      "               0       1         2\n",
      "name    Margaret  Sharon  Dietrich\n",
      "age           10      12        14\n",
      "female      True    True     False\n",
      "12\n",
      "name      Dietrich\n",
      "age             14\n",
      "female       False\n",
      "Name: 2, dtype: object\n"
     ]
    },
    {
     "data": {
      "text/plain": [
       "0    Margaret\n",
       "1      Sharon\n",
       "2    Dietrich\n",
       "Name: name, dtype: object"
      ]
     },
     "execution_count": 8,
     "metadata": {},
     "output_type": "execute_result"
    }
   ],
   "source": [
    "dict_list = [\n",
    "    {\n",
    "        \"name\": \"Margaret\",\n",
    "        \"age\": 10,\n",
    "        \"female\": True\n",
    "    },\n",
    "    {\n",
    "        \"name\": \"Sharon\",\n",
    "        \"age\": 12,\n",
    "        \"female\": True\n",
    "    },\n",
    "    {\n",
    "        \"name\": \"Dietrich\",\n",
    "        \"age\": 14,\n",
    "        \"female\": False\n",
    "    }\n",
    "]\n",
    "\n",
    "import pandas as pd\n",
    "\n",
    "data = pd.DataFrame(dict_list)\n",
    "# print(data)\n",
    "# print(data.dtypes)\n",
    "print(data.T)\n",
    "print(data.loc[1][\"age\"])\n",
    "print(data.loc[2])\n",
    "data[\"name\"]"
   ]
  },
  {
   "cell_type": "code",
   "execution_count": 30,
   "metadata": {},
   "outputs": [
    {
     "name": "stdout",
     "output_type": "stream",
     "text": [
      "           name  age  female\n",
      "team1  Margaret   10    True\n",
      "team1   Shubert   11   False\n",
      "team2   Solomon   19   False\n",
      "team3    Sharon   12    True\n",
      "team3  Dietrich   14   False\n",
      "           name  age\n",
      "team3    Sharon   12\n",
      "team3  Dietrich   14\n",
      "team1    Margaret\n",
      "team1     Shubert\n",
      "team2     Solomon\n",
      "team3      Sharon\n",
      "team3    Dietrich\n",
      "Name: name, dtype: object\n",
      "team3    12\n",
      "team3    14\n",
      "Name: age, dtype: int64\n",
      "int64\n"
     ]
    }
   ],
   "source": [
    "\n",
    "dict_list = [\n",
    "    {\n",
    "        \"name\": \"Margaret\",\n",
    "        \"age\": 10,\n",
    "        \"female\": True\n",
    "    },\n",
    "    {\n",
    "        \"name\": \"Shubert\",\n",
    "        \"age\": 11,\n",
    "        \"female\": False\n",
    "    },\n",
    "    {\n",
    "        \"name\": \"Solomon\",\n",
    "        \"age\": 19,\n",
    "        \"female\": False\n",
    "    },\n",
    "    {\n",
    "        \"name\": \"Sharon\",\n",
    "        \"age\": 12,\n",
    "        \"female\": True\n",
    "    },\n",
    "    {\n",
    "        \"name\": \"Dietrich\",\n",
    "        \"age\": 14,\n",
    "        \"female\": False\n",
    "    }\n",
    "]\n",
    "\n",
    "import pandas as pd\n",
    "\n",
    "data = pd.DataFrame(dict_list, index=[\"team1\", \"team1\", \"team2\", \"team3\", \"team3\"])\n",
    "\n",
    "# print(data)\n",
    "# print(data.dtypes)\n",
    "data.head()\n",
    "team3 = data.loc[\"team3\"]\n",
    "# print(team3)\n",
    "\n",
    "# print(team3.dtypes)\n",
    "\n",
    "\n",
    "team3_names = team3.loc[:, [\"name\", \"age\"]]\n",
    "print(team3_names)\n",
    "# print(team3_names.dtype)\n",
    "\n",
    "\n",
    "print(data[\"name\"])\n",
    "\n",
    "team3_ages = team3[\"age\"]\n",
    "print(team3_ages)\n",
    "print(team3_ages.dtype)"
   ]
  },
  {
   "cell_type": "code",
   "execution_count": 50,
   "metadata": {},
   "outputs": [
    {
     "name": "stdout",
     "output_type": "stream",
     "text": [
      "           name  age  female\n",
      "team1  Margaret   10    True\n",
      "team1   Shubert   11   False\n",
      "team2      Orca   20    True\n",
      "team3    Sharon   12    True\n",
      "team3  Dietrich   14   False\n",
      "           name  age  female\n",
      "team1  Margaret   10    True\n",
      "team1   Shubert   11   False\n",
      "team2      Orca   20    True\n",
      "team3    Sharon   12    True\n",
      "team3  Dietrich   14   False\n",
      "team2   Delilah   14    True\n"
     ]
    }
   ],
   "source": [
    "print(data)\n",
    "new_data = data.copy()\n",
    "some_data = new_data.append(pd.Series({\"name\": \"Delilah\", \"age\": 14, \"female\": True}, name=\"team2\"))\n",
    "print(some_data)"
   ]
  },
  {
   "cell_type": "code",
   "execution_count": 53,
   "metadata": {},
   "outputs": [
    {
     "name": "stdout",
     "output_type": "stream",
     "text": [
      "           name  age  female\n",
      "team1  Margaret   10    True\n",
      "team1   Shubert   11   False\n",
      "team2      Orca   20    True\n",
      "team3    Sharon   12    True\n",
      "team3  Dietrich   14   False\n"
     ]
    }
   ],
   "source": [
    "# reduced = some_data.drop()\n",
    "# print(reduced)\n",
    "print(new_data)"
   ]
  },
  {
   "cell_type": "code",
   "execution_count": 73,
   "metadata": {},
   "outputs": [
    {
     "name": "stdout",
     "output_type": "stream",
     "text": [
      "Index(['Draw Number', ' Draw Date (yyyymmdd)', ' Winning Number 1', '2', '3',\n",
      "       '4', '5', '6', '7', '8', 'Bonus 1', ' Bonus 2',\n",
      "       ' Set for Life 1st Prize', '2nd Prize', ' 3rd Prize', ' 4th Prize',\n",
      "       ' 5th Prize', ' 6th Prize', ' 7th Prize', ' 8th Prize'],\n",
      "      dtype='object')\n"
     ]
    },
    {
     "data": {
      "text/html": [
       "<div>\n",
       "<style scoped>\n",
       "    .dataframe tbody tr th:only-of-type {\n",
       "        vertical-align: middle;\n",
       "    }\n",
       "\n",
       "    .dataframe tbody tr th {\n",
       "        vertical-align: top;\n",
       "    }\n",
       "\n",
       "    .dataframe thead th {\n",
       "        text-align: right;\n",
       "    }\n",
       "</style>\n",
       "<table border=\"1\" class=\"dataframe\">\n",
       "  <thead>\n",
       "    <tr style=\"text-align: right;\">\n",
       "      <th></th>\n",
       "      <th>Draw Number</th>\n",
       "      <th>Draw Date</th>\n",
       "      <th>Winning Number 1</th>\n",
       "      <th>2</th>\n",
       "      <th>3</th>\n",
       "      <th>4</th>\n",
       "      <th>5</th>\n",
       "      <th>6</th>\n",
       "      <th>7</th>\n",
       "      <th>8</th>\n",
       "      <th>Bonus 1</th>\n",
       "      <th>Bonus 2</th>\n",
       "      <th>Set for Life 1st Prize</th>\n",
       "      <th>2nd Prize</th>\n",
       "      <th>3rd Prize</th>\n",
       "      <th>4th Prize</th>\n",
       "      <th>5th Prize</th>\n",
       "      <th>6th Prize</th>\n",
       "      <th>7th Prize</th>\n",
       "      <th>8th Prize</th>\n",
       "    </tr>\n",
       "  </thead>\n",
       "  <tbody>\n",
       "    <tr>\n",
       "      <th>0</th>\n",
       "      <td>1</td>\n",
       "      <td>20150807</td>\n",
       "      <td>8</td>\n",
       "      <td>10</td>\n",
       "      <td>9</td>\n",
       "      <td>5</td>\n",
       "      <td>30</td>\n",
       "      <td>4</td>\n",
       "      <td>19</td>\n",
       "      <td>12</td>\n",
       "      <td>29</td>\n",
       "      <td>6</td>\n",
       "      <td>$0.00</td>\n",
       "      <td>$0.00</td>\n",
       "      <td>$947.70</td>\n",
       "      <td>$83.45</td>\n",
       "      <td>$22.95</td>\n",
       "      <td>$17.40</td>\n",
       "      <td>$12.45</td>\n",
       "      <td>$9.35</td>\n",
       "    </tr>\n",
       "    <tr>\n",
       "      <th>1</th>\n",
       "      <td>2</td>\n",
       "      <td>20150808</td>\n",
       "      <td>13</td>\n",
       "      <td>7</td>\n",
       "      <td>25</td>\n",
       "      <td>21</td>\n",
       "      <td>12</td>\n",
       "      <td>36</td>\n",
       "      <td>6</td>\n",
       "      <td>26</td>\n",
       "      <td>14</td>\n",
       "      <td>35</td>\n",
       "      <td>$0.00</td>\n",
       "      <td>$3,689.80</td>\n",
       "      <td>$885.35</td>\n",
       "      <td>$117.55</td>\n",
       "      <td>$29.70</td>\n",
       "      <td>$20.75</td>\n",
       "      <td>$13.20</td>\n",
       "      <td>$10.30</td>\n",
       "    </tr>\n",
       "    <tr>\n",
       "      <th>2</th>\n",
       "      <td>3</td>\n",
       "      <td>20150809</td>\n",
       "      <td>7</td>\n",
       "      <td>3</td>\n",
       "      <td>23</td>\n",
       "      <td>11</td>\n",
       "      <td>31</td>\n",
       "      <td>15</td>\n",
       "      <td>4</td>\n",
       "      <td>27</td>\n",
       "      <td>37</td>\n",
       "      <td>36</td>\n",
       "      <td>Set for Life</td>\n",
       "      <td>$7,713.95</td>\n",
       "      <td>$411.35</td>\n",
       "      <td>$84.95</td>\n",
       "      <td>$26.40</td>\n",
       "      <td>$17.30</td>\n",
       "      <td>$12.75</td>\n",
       "      <td>$9.45</td>\n",
       "    </tr>\n",
       "    <tr>\n",
       "      <th>3</th>\n",
       "      <td>4</td>\n",
       "      <td>20150810</td>\n",
       "      <td>30</td>\n",
       "      <td>24</td>\n",
       "      <td>28</td>\n",
       "      <td>9</td>\n",
       "      <td>14</td>\n",
       "      <td>7</td>\n",
       "      <td>8</td>\n",
       "      <td>19</td>\n",
       "      <td>32</td>\n",
       "      <td>23</td>\n",
       "      <td>$0.00</td>\n",
       "      <td>$0.00</td>\n",
       "      <td>$1,217.75</td>\n",
       "      <td>$105.95</td>\n",
       "      <td>$24.85</td>\n",
       "      <td>$19.45</td>\n",
       "      <td>$13.00</td>\n",
       "      <td>$9.90</td>\n",
       "    </tr>\n",
       "    <tr>\n",
       "      <th>4</th>\n",
       "      <td>5</td>\n",
       "      <td>20150811</td>\n",
       "      <td>18</td>\n",
       "      <td>21</td>\n",
       "      <td>35</td>\n",
       "      <td>27</td>\n",
       "      <td>3</td>\n",
       "      <td>9</td>\n",
       "      <td>19</td>\n",
       "      <td>15</td>\n",
       "      <td>31</td>\n",
       "      <td>7</td>\n",
       "      <td>$0.00</td>\n",
       "      <td>$9,675.30</td>\n",
       "      <td>$488.75</td>\n",
       "      <td>$112.55</td>\n",
       "      <td>$26.15</td>\n",
       "      <td>$18.45</td>\n",
       "      <td>$13.25</td>\n",
       "      <td>$9.60</td>\n",
       "    </tr>\n",
       "  </tbody>\n",
       "</table>\n",
       "</div>"
      ],
      "text/plain": [
       "   Draw Number  Draw Date   Winning Number 1   2   3   4   5   6   7   8  \\\n",
       "0            1   20150807                  8  10   9   5  30   4  19  12   \n",
       "1            2   20150808                 13   7  25  21  12  36   6  26   \n",
       "2            3   20150809                  7   3  23  11  31  15   4  27   \n",
       "3            4   20150810                 30  24  28   9  14   7   8  19   \n",
       "4            5   20150811                 18  21  35  27   3   9  19  15   \n",
       "\n",
       "   Bonus 1   Bonus 2  Set for Life 1st Prize  2nd Prize  3rd Prize  4th Prize  \\\n",
       "0       29         6                   $0.00      $0.00    $947.70     $83.45   \n",
       "1       14        35                   $0.00  $3,689.80    $885.35    $117.55   \n",
       "2       37        36            Set for Life  $7,713.95    $411.35     $84.95   \n",
       "3       32        23                   $0.00      $0.00  $1,217.75    $105.95   \n",
       "4       31         7                   $0.00  $9,675.30    $488.75    $112.55   \n",
       "\n",
       "   5th Prize  6th Prize  7th Prize  8th Prize  \n",
       "0     $22.95     $17.40     $12.45      $9.35  \n",
       "1     $29.70     $20.75     $13.20     $10.30  \n",
       "2     $26.40     $17.30     $12.75      $9.45  \n",
       "3     $24.85     $19.45     $13.00      $9.90  \n",
       "4     $26.15     $18.45     $13.25      $9.60  "
      ]
     },
     "execution_count": 73,
     "metadata": {},
     "output_type": "execute_result"
    }
   ],
   "source": [
    "import pandas as pd\n",
    "\n",
    "# with open(\"C:/Users/peich/OneDrive/Documents/SetForLife.csv\", \"r\") as file:\n",
    "#     line = file.readline()\n",
    "#     print(line)\n",
    "csv = pd.read_csv(\"C:/Users/peich/OneDrive/Documents/SetForLife.csv\")\n",
    "# print(type(csv))\n",
    "# csv.head()\n",
    "print(csv.columns)\n",
    "new_csv = csv.rename(columns={\" Draw Date (yyyymmdd)\": \"Draw Date\"})\n",
    "new_csv.head()"
   ]
  },
  {
   "cell_type": "code",
   "execution_count": 75,
   "metadata": {},
   "outputs": [
    {
     "data": {
      "text/plain": [
       "14560"
      ]
     },
     "execution_count": 75,
     "metadata": {},
     "output_type": "execute_result"
    }
   ],
   "source": [
    "print(\"Count: {}\".format(csv.count()))\n",
    "print(f\"size: {csv.size}\")"
   ]
  }
 ],
 "metadata": {
  "kernelspec": {
   "display_name": "Python 3 (ipykernel)",
   "language": "python",
   "name": "python3"
  },
  "language_info": {
   "codemirror_mode": {
    "name": "ipython",
    "version": 3
   },
   "file_extension": ".py",
   "mimetype": "text/x-python",
   "name": "python",
   "nbconvert_exporter": "python",
   "pygments_lexer": "ipython3",
   "version": "3.7.6"
  },
  "pycharm": {
   "stem_cell": {
    "cell_type": "raw",
    "metadata": {
     "collapsed": false
    },
    "source": []
   }
  }
 },
 "nbformat": 4,
 "nbformat_minor": 1
}
