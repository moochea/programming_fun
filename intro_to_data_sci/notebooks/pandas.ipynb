{
 "cells": [
  {
   "cell_type": "code",
   "execution_count": null,
   "outputs": [],
   "source": [
    "import pandas as pd\n",
    "\n",
    "new_list = [\"apple\", \"baby\", \"cot\", \"dog\", \"elephant\"]\n",
    "\n",
    "series = pd.Series(new_list)\n",
    "\n",
    "print(series)\n",
    "print(series.dtype)"
   ],
   "metadata": {
    "collapsed": false,
    "pycharm": {
     "name": "#%%\n"
    }
   }
  },
  {
   "cell_type": "code",
   "execution_count": null,
   "outputs": [],
   "source": [
    "dict_list = [\n",
    "    {\n",
    "        \"name\": \"Margaret\",\n",
    "        \"age\": 10,\n",
    "        \"female\": True\n",
    "    },\n",
    "    {\n",
    "        \"name\": \"Sharon\",\n",
    "        \"age\": 12,\n",
    "        \"female\": True\n",
    "    },\n",
    "    {\n",
    "        \"name\": \"Dietrich\",\n",
    "        \"age\": 14,\n",
    "        \"female\": False\n",
    "    }\n",
    "]\n",
    "\n",
    "import pandas as pd\n",
    "\n",
    "data = pd.DataFrame(dict_list)\n",
    "# print(data)\n",
    "# print(data.dtypes)\n",
    "print(data.T)\n",
    "print(data.loc[1][\"age\"])\n",
    "print(data.loc[2])\n",
    "data[\"name\"]"
   ],
   "metadata": {
    "collapsed": false,
    "pycharm": {
     "name": "#%%\n"
    }
   }
  },
  {
   "cell_type": "code",
   "execution_count": null,
   "outputs": [],
   "source": [
    "\n",
    "dict_list = [\n",
    "    {\n",
    "        \"name\": \"Margaret\",\n",
    "        \"age\": 10,\n",
    "        \"female\": True\n",
    "    },\n",
    "    {\n",
    "        \"name\": \"Shubert\",\n",
    "        \"age\": 11,\n",
    "        \"female\": False\n",
    "    },\n",
    "    {\n",
    "        \"name\": \"Solomon\",\n",
    "        \"age\": 19,\n",
    "        \"female\": False\n",
    "    },\n",
    "    {\n",
    "        \"name\": \"Sharon\",\n",
    "        \"age\": 12,\n",
    "        \"female\": True\n",
    "    },\n",
    "    {\n",
    "        \"name\": \"Dietrich\",\n",
    "        \"age\": 14,\n",
    "        \"female\": False\n",
    "    }\n",
    "]\n",
    "\n",
    "import pandas as pd\n",
    "\n",
    "data = pd.DataFrame(dict_list, index=[\"team1\", \"team1\", \"team2\", \"team3\", \"team3\"])\n",
    "\n",
    "# print(data)\n",
    "# print(data.dtypes)\n",
    "data.head()\n",
    "team3 = data.loc[\"team3\"]\n",
    "# print(team3)\n",
    "\n",
    "# print(team3.dtypes)\n",
    "\n",
    "\n",
    "team3_names = team3.loc[:, [\"name\", \"age\"]]\n",
    "print(team3_names)\n",
    "# print(team3_names.dtype)\n",
    "\n",
    "\n",
    "print(data[\"name\"])\n",
    "\n",
    "team3_ages = team3[\"age\"]\n",
    "print(team3_ages)\n",
    "print(team3_ages.dtype)"
   ],
   "metadata": {
    "collapsed": false,
    "pycharm": {
     "name": "#%%\n"
    }
   }
  },
  {
   "cell_type": "code",
   "execution_count": null,
   "outputs": [],
   "source": [
    "print(data)\n",
    "new_data = data.copy()\n",
    "some_data = new_data.append(pd.Series({\"name\": \"Delilah\", \"age\": 14, \"female\": True}, name=\"team2\"))\n",
    "print(some_data)"
   ],
   "metadata": {
    "collapsed": false,
    "pycharm": {
     "name": "#%%\n"
    }
   }
  },
  {
   "cell_type": "code",
   "execution_count": null,
   "outputs": [],
   "source": [
    "# reduced = some_data.drop()\n",
    "# print(reduced)\n",
    "print(new_data)"
   ],
   "metadata": {
    "collapsed": false,
    "pycharm": {
     "name": "#%%\n"
    }
   }
  },
  {
   "cell_type": "code",
   "execution_count": null,
   "outputs": [],
   "source": [
    "import pandas as pd\n",
    "\n",
    "# with open(\"C:/Users/peich/OneDrive/Documents/SetForLife.csv\", \"r\") as file:\n",
    "#     line = file.readline()\n",
    "#     print(line)\n",
    "csv = pd.read_csv(\"C:/Users/peich/OneDrive/Documents/SetForLife.csv\")\n",
    "# print(type(csv))\n",
    "# csv.head()\n",
    "print(csv.columns)\n",
    "new_csv = csv.rename(columns={\" Draw Date (yyyymmdd)\": \"Draw Date\"})\n",
    "new_csv.head()"
   ],
   "metadata": {
    "collapsed": false,
    "pycharm": {
     "name": "#%%\n"
    }
   }
  },
  {
   "cell_type": "code",
   "execution_count": null,
   "outputs": [],
   "source": [
    "print(\"Count: {}\".format(csv.count()))\n",
    "print(f\"size: {csv.size}\")"
   ],
   "metadata": {
    "collapsed": false,
    "pycharm": {
     "name": "#%%\n"
    }
   }
  },
  {
   "cell_type": "code",
   "execution_count": null,
   "outputs": [],
   "source": [
    "new_csv.loc[2][\" Set for Life 1st Prize\"]\n",
    "new_csv.replace('Set for Life', pd.NA, inplace=True)\n",
    "# print(new_csv.head())\n",
    "def stripper(value):\n",
    "    if type(value) == type(10):\n",
    "        return value \n",
    "    else:\n",
    "        return str.strip(value)\n",
    "        \n",
    "# print(new_csv.columns)\n",
    "renamed = new_csv.rename(mapper=stripper, axis=\"columns\")\n",
    "renamed = renamed.rename(columns={'Winning Number 1':1})\n",
    "renamed = renamed.rename(columns={'Set for Life 1st Prize': '1st Prize'})\n",
    "\n",
    "print(renamed.columns)\n",
    "renamed.head()"
   ],
   "metadata": {
    "collapsed": false,
    "pycharm": {
     "name": "#%%\n"
    }
   }
  },
  {
   "cell_type": "code",
   "execution_count": null,
   "outputs": [],
   "source": [
    "renamed.fillna('$0.00', inplace=True)\n",
    "renamed.head()"
   ],
   "metadata": {
    "collapsed": false,
    "pycharm": {
     "name": "#%%\n"
    }
   }
  },
  {
   "cell_type": "code",
   "execution_count": null,
   "outputs": [],
   "source": [
    "# len(renamed.columns)\n",
    "renamed[\"prize_total\"] = 0\n",
    "renamed.head()"
   ],
   "metadata": {
    "collapsed": false,
    "pycharm": {
     "name": "#%%\n"
    }
   }
  },
  {
   "cell_type": "markdown",
   "source": [],
   "metadata": {
    "collapsed": false
   }
  },
  {
   "cell_type": "code",
   "execution_count": null,
   "outputs": [],
   "source": [
    "# print(type(renamed.loc[1][\"1st Prize\"]))\n",
    "print(renamed.shape)\n",
    "no_of_entries = renamed.shape[0]\n",
    "def sum_dollar_values(list_of_values):\n",
    "    total = 0\n",
    "    for value in list_of_values:\n",
    "        float_value = float(value[1:].replace(',', ''))\n",
    "        total = total + float_value\n",
    "    return \"${:.2f}\".format(total)\n",
    "for i in range(no_of_entries):\n",
    "    location = renamed.loc[i]\n",
    "    renamed.iat[i, 20] = sum_dollar_values(location[12:20])\n",
    "    \n",
    "renamed.head()\n",
    "\n",
    "# location = renamed.iloc[2]\n",
    "# for entry in location[12:20]:\n",
    "#     print(entry)"
   ],
   "metadata": {
    "collapsed": false,
    "pycharm": {
     "name": "#%%\n"
    }
   }
  },
  {
   "cell_type": "code",
   "execution_count": null,
   "outputs": [],
   "source": [
    "new_data = [\n",
    "    {\"book title\": \"Forever Food\",\n",
    "     \"visits\": 10,\n",
    "     \"date\": \"25032022\",\n",
    "     \"size\": \"256kb\",\n",
    "     \"theme\": \"food\"\n",
    "     },\n",
    "    {\"book title\": \"Always Hungry\",\n",
    "     \"visits\": 12,\n",
    "     \"date\": \"26032022\",\n",
    "     \"size\": \"3056kb\",\n",
    "     \"theme\": \"food\"\n",
    "     },\n",
    "    {\"book title\": \"Disgustingly Good\",\n",
    "     \"visits\": 100,\n",
    "     \"date\": \"29032022\",\n",
    "     \"size\": \"256kb\",\n",
    "     \"theme\": \"beauty\"\n",
    "     },\n",
    "    {\"book title\": \"Grow by 20\",\n",
    "     \"visits\": 10,\n",
    "     \"date\": \"25032022\",\n",
    "     \"size\": \"256kb\",\n",
    "     \"theme\": \"health\"\n",
    "     },\n",
    "    {\n",
    "        \"book title\": \"Continue Growing\",\n",
    "        \"visits\": 30,\n",
    "        \"date\": \"25032022\",\n",
    "        \"size\": \"256kb\",\n",
    "        \"theme\": \"health\"\n",
    "     },\n",
    "]\n",
    "\n",
    "new_df = pd.DataFrame(new_data)\n",
    "new_df.head()"
   ],
   "metadata": {
    "collapsed": false,
    "pycharm": {
     "name": "#%%\n"
    }
   }
  },
  {
   "cell_type": "code",
   "execution_count": null,
   "outputs": [],
   "source": [
    "new_df.insert(1, \"author\", \"Anonymous\")\n",
    "new_df.head()"
   ],
   "metadata": {
    "collapsed": false,
    "pycharm": {
     "name": "#%%\n"
    }
   }
  },
  {
   "cell_type": "code",
   "execution_count": null,
   "outputs": [],
   "source": [
    "new_df.iat[0, 1] = \"Jamie Zhu\"\n",
    "new_df.head()"
   ],
   "metadata": {
    "collapsed": false,
    "pycharm": {
     "name": "#%%\n"
    }
   }
  },
  {
   "cell_type": "code",
   "execution_count": null,
   "outputs": [],
   "source": [
    "import re\n",
    "result = new_df[new_df[\"book title\"].str.contains(\"Grow\")]\n",
    "print(result)\n",
    "# new_df.loc[new_df['book_title'].str.extract('.*Grow.*', ), \"author\"] \n",
    "# new_df.head()"
   ],
   "metadata": {
    "collapsed": false,
    "pycharm": {
     "name": "#%%\n"
    }
   }
  },
  {
   "cell_type": "code",
   "execution_count": null,
   "outputs": [],
   "source": [
    "new_df.head()\n",
    "mask = new_df[\"author\"].where(new_df[\"book title\"].str.contains(\"Grow\"))\n",
    "print(mask)\n",
    "\n",
    "# new_df[\"author\"] = new_df.iloc[:,1].where(mask.T)"
   ],
   "metadata": {
    "collapsed": false,
    "pycharm": {
     "name": "#%%\n"
    }
   }
  },
  {
   "cell_type": "code",
   "execution_count": null,
   "outputs": [],
   "source": [
    "series = [\n",
    "     \"James Zhu\",\n",
    "     \"Eric Kong\", \n",
    "     \"Taylor Swift\", \n",
    "     \"Ben Bold\", \n",
    "     \"Feven Great\"\n",
    "    ]\n",
    "import pandas as pd\n",
    "new_series = pd.Series(series)\n",
    "new_series.head()"
   ],
   "metadata": {
    "collapsed": false,
    "pycharm": {
     "name": "#%%\n"
    }
   }
  },
  {
   "cell_type": "code",
   "execution_count": null,
   "outputs": [],
   "source": [
    "new_data = pd.DataFrame(new_series)\n",
    "new_data.columns = [\"full name\"]\n",
    "new_data.head()\n",
    "def split_name_manual(row):\n",
    "    row[\"first\"] = row[\"full name\"].split(\" \")[0]\n",
    "    row[\"last\"] = row[\"full name\"].split(\" \")[-1]\n",
    "    return row\n",
    "# df = new_data.apply(split_name_manual, axis=\"columns\")\n",
    "\n",
    "names = new_data[\"full name\"].str.extract(\"^(\\w+).* (\\w+)$\", )\n",
    "names.columns=[\"first\",\"last\"]\n",
    "print(names)\n",
    "new_data[\"first\"] = names[\"first\"]\n",
    "new_data[\"last\"] = names[\"last\"]\n",
    "new_data.head()"
   ],
   "metadata": {
    "collapsed": false,
    "pycharm": {
     "name": "#%%\n"
    }
   }
  },
  {
   "cell_type": "code",
   "execution_count": null,
   "outputs": [],
   "source": [
    "new_data[\"4char\"] = new_data[\"first\"]"
   ],
   "metadata": {
    "collapsed": false,
    "pycharm": {
     "name": "#%%\n"
    }
   }
  },
  {
   "cell_type": "code",
   "execution_count": null,
   "outputs": [],
   "source": [
    "stringy = \"mabel ann boris\"\n",
    "stringy2 = \"james edward\"\n",
    "stringy3 = \"Pei Chea Tan\"\n",
    "pattern = \"^(\\w+).* (\\w+)$\"\n",
    "matches = re.match(pattern, stringy)\n",
    "if matches:\n",
    "    print(matches.groups())\n",
    "\n",
    "matches = re.match(pattern, stringy2)\n",
    "if matches:\n",
    "    print(matches.groups())\n",
    "\n",
    "matches = re.match(pattern, stringy3)\n",
    "if matches:\n",
    "    print(matches.groups())"
   ],
   "metadata": {
    "collapsed": false,
    "pycharm": {
     "name": "#%%\n"
    }
   }
  },
  {
   "cell_type": "code",
   "execution_count": null,
   "outputs": [],
   "source": [
    "import pandas as pd\n",
    "sdata = {'Ohio': 35000, 'Texas': 71000, 'Oregon': 16000, 'Utah': 5000}\n",
    "obj1 = pd.Series(sdata)\n",
    "states = ['California', 'Ohio', 'Oregon', 'Texas']\n",
    "obj2 = pd.Series(sdata, index=states)\n",
    "obj3 = pd.isnull(obj2)\n",
    "print(obj2)\n",
    "print(obj3)\n",
    "import math\n",
    "math.isnan(obj2[\"California\"])\n",
    "\n",
    "\n",
    "test_df = pd.Series(sdata)\n",
    "print(test_df)\n",
    "# print(test_df.loc[35000])\n",
    "# for item in test_df.iteritems():\n",
    "    # print(item)\n",
    "\n"
   ],
   "metadata": {
    "collapsed": false,
    "pycharm": {
     "name": "#%%\n"
    }
   }
  },
  {
   "cell_type": "code",
   "execution_count": null,
   "outputs": [],
   "source": [
    "data = pd.DataFrame([\n",
    "    {\n",
    "        \"one\": \"blue\",\n",
    "        \"two\": \"red\",\n",
    "        \"three\": \"green\",\n",
    "        \"four\": \"grey\"\n",
    "     },\n",
    "    {\n",
    "        \"one\": \"yellow\",\n",
    "        \"two\": \"red\",\n",
    "        \"three\": \"yellow\",\n",
    "        \"four\": \"black\"\n",
    "     },\n",
    "    {\n",
    "        \"one\": \"green\",\n",
    "        \"two\": \"white\",\n",
    "        \"three\": \"red\",\n",
    "        \"four\": \"yellow\"\n",
    "     },\n",
    "    ], index=[\"texes\", \"ohio\", \"missisipi\"])\n",
    "print(data)\n",
    "\n",
    "drop_texes_list = data.drop([\"texes\"])\n",
    "\n",
    "print(drop_texes_list)\n",
    "drop_texes = data.drop(\"texes\")\n",
    "print(drop_texes)\n",
    "drop_two = data.drop('two',)\n",
    "print(drop_two)\n",
    "\n",
    "drop_more = data.drop(['ohio', 'missisipi'])\n",
    "print(drop_more)"
   ],
   "metadata": {
    "collapsed": false,
    "pycharm": {
     "name": "#%%\n"
    }
   }
  },
  {
   "cell_type": "code",
   "execution_count": null,
   "outputs": [],
   "source": [
    "data = pd.DataFrame([\n",
    "     {\n",
    "         \"employee number\": 1,\n",
    "         \"age\": 47,\n",
    "         \"wage\": 50000,\n",
    "         \"period\": 6\n",
    "     },\n",
    "     {\n",
    "         \"employee number\": 2,\n",
    "         \"age\": 37,\n",
    "         \"wage\": 21000,\n",
    "         \"period\": 3\n",
    "     },\n",
    "     {\n",
    "         \"employee number\": 3,\n",
    "         \"age\": 37,\n",
    "         \"wage\": 21000,\n",
    "         \"period\": 2\n",
    "     },\n",
    "     {\n",
    "         \"employee number\": 4,\n",
    "         \"age\": 40,\n",
    "         \"wage\": 30000,\n",
    "         \"period\": 4\n",
    "     },\n",
    "     {\n",
    "         \"employee number\": 5,\n",
    "         \"age\": 42,\n",
    "         \"wage\": 30000,\n",
    "         \"period\": 4\n",
    "     },\n",
    "     {\n",
    "         \"employee number\": 6,\n",
    "         \"age\": 20,\n",
    "         \"wage\": 10000,\n",
    "         \"period\": 1\n",
    "     },\n",
    "     \n",
    " ]) \n",
    "print(data[data[\"age\"]<45])\n",
    "print(data[data[\"age\"].gt(30)])\n",
    "print(data[data[\"age\"].gt(30) & data[\"wage\"].lt(30000)])\n",
    "print(data[(data[\"age\"].gt(30)) & (data[\"wage\"].lt(30000))])\n",
    "\n",
    "print((data[\"age\"].gt(30)) & (data[\"wage\"].lt(30000)))\n"
   ],
   "metadata": {
    "collapsed": false,
    "pycharm": {
     "name": "#%%\n"
    }
   }
  }
 ],
 "metadata": {
  "kernelspec": {
   "display_name": "Python 3 (ipykernel)",
   "language": "python",
   "name": "python3"
  },
  "language_info": {
   "codemirror_mode": {
    "name": "ipython",
    "version": 3
   },
   "file_extension": ".py",
   "mimetype": "text/x-python",
   "name": "python",
   "nbconvert_exporter": "python",
   "pygments_lexer": "ipython3",
   "version": "3.7.6"
  },
  "pycharm": {
   "stem_cell": {
    "cell_type": "raw",
    "source": [],
    "metadata": {
     "collapsed": false
    }
   }
  }
 },
 "nbformat": 4,
 "nbformat_minor": 1
}