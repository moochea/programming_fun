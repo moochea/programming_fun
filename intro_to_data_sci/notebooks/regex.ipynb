{
 "cells": [
  {
   "cell_type": "code",
   "execution_count": 1,
   "metadata": {
    "collapsed": true,
    "pycharm": {
     "is_executing": false
    }
   },
   "outputs": [
    {
     "data": {
      "text/plain": "6"
     },
     "metadata": {},
     "output_type": "execute_result",
     "execution_count": 1
    }
   ],
   "source": [
    "x=2\n",
    "y=3\n",
    "x*y"
   ]
  },
  {
   "cell_type": "markdown",
   "source": [
    "## This is a title\n",
    "\n",
    "Something else goes here\n",
    "I think\n"
   ],
   "metadata": {
    "collapsed": false
   }
  },
  {
   "cell_type": "code",
   "execution_count": 2,
   "outputs": [
    {
     "name": "stdout",
     "text": [
      "We got groups: ()\n",
      "We got group: (falafel(blah, blah, 234, enter), brontasaurus, 4, 5, 8, 27, (one two three))\n",
      "findall non-greed specifier: ['(falafel(blah, blah, 234, enter)', '(one two three)']\n",
      "findall with character classes: ['(blah, blah, 234, enter)', '(one two three)']\n"
     ],
     "output_type": "stream"
    }
   ],
   "source": [
    "import re\n",
    "\n",
    "test_line=\"Outer=(falafel(blah, blah, 234, enter), brontasaurus, 4, 5, 8, 27, (one two three))\"\n",
    "after_falafel=re.search(\"\\(.*\\)\", test_line)\n",
    "if after_falafel:\n",
    "    print(\"We got groups: {}\".format(after_falafel.groups()))\n",
    "    print(\"We got group: {}\".format(after_falafel.group()))\n",
    "    \n",
    "findall_falafel=re.findall(\"\\(.*?\\)\", test_line)\n",
    "if findall_falafel:\n",
    "    print(\"findall non-greed specifier: {}\".format(findall_falafel))\n",
    "\n",
    "findall_falafel=re.findall(\"\\([a-z0-9\\s,]+\\)\", test_line)\n",
    "if findall_falafel:\n",
    "    print(\"findall with character classes: {}\".format(findall_falafel))"
   ],
   "metadata": {
    "collapsed": false,
    "pycharm": {
     "name": "#%%\n",
     "is_executing": false
    }
   }
  },
  {
   "cell_type": "code",
   "execution_count": 3,
   "outputs": [
    {
     "name": "stdout",
     "text": [
      "There is a lion in the shower\n",
      "('lion',)\n",
      "There is a lion in the shower\n",
      "lion\n",
      "There is a tiger in the shower\n",
      "('tiger',)\n",
      "There is a tiger in the shower\n",
      "tiger\n",
      "No more animals int he shower\n",
      "There is a lion in the basement\n"
     ],
     "output_type": "stream"
    }
   ],
   "source": [
    "lines = [\n",
    "    \"There is a lion in the shower\",\n",
    "    \"There is a tiger in the shower\",\n",
    "    \"No more animals int he shower\",\n",
    "    \"There is a lion in the basement\"\n",
    "]\n",
    "\n",
    "for x in lines:\n",
    "    print(x)\n",
    "    matches = re.match(\"There is a (\\S+) in the shower\", x)\n",
    "    if matches:\n",
    "        print(matches.groups())\n",
    "        print(matches.group(0))\n",
    "        print(matches.group(1))\n"
   ],
   "metadata": {
    "collapsed": false,
    "pycharm": {
     "name": "#%%\n",
     "is_executing": false
    }
   }
  },
  {
   "cell_type": "code",
   "execution_count": 4,
   "outputs": [
    {
     "name": "stdout",
     "text": [
      "Using group dict\n",
      "{'animal': 'lion'}\n",
      "{'animal': 'tiger'}\n",
      "{'animal': 'animals'}\n"
     ],
     "output_type": "stream"
    }
   ],
   "source": [
    "line = \"There is a lion in the shower, there is a tiger in the shower, No more animals in the shower, there is a lion in the basement\"\n",
    "print(\"Using group dict\")\n",
    "matches  = re.finditer(\"(?P<animal>[\\S]+) in the shower\", line)\n",
    "if matches:\n",
    "    for match in matches:\n",
    "        print(match.groupdict())"
   ],
   "metadata": {
    "collapsed": false,
    "pycharm": {
     "name": "#%%\n",
     "is_executing": false
    }
   }
  },
  {
   "cell_type": "code",
   "execution_count": 17,
   "outputs": [
    {
     "name": "stdout",
     "text": [
      "findall: ['lion', 'tiger', 'animals']\n",
      "('lion',)\n",
      "['lion', 'tiger', 'lion']\n"
     ],
     "output_type": "stream"
    }
   ],
   "source": [
    "import re\n",
    "line = \"There is a lion in the shower, there is a tiger in the shower, No more animals in the shower, there is a lion in the basement\"\n",
    "\n",
    "matches=re.findall(\"(\\S+) in the shower\", line)\n",
    "print(f\"findall: {matches}\")\n",
    "\n",
    "\n",
    "more_matches = re.search(\"here is a (\\S+)\", line)\n",
    "if more_matches:\n",
    "    print(more_matches.groups())\n",
    "\n",
    "\n",
    "more_matches = re.finditer(\"here is a (\\S+)\", line)\n",
    "if more_matches:\n",
    "    print([match.group(1) for match in more_matches])"
   ],
   "metadata": {
    "collapsed": false,
    "pycharm": {
     "name": "#%%\n",
     "is_executing": false
    }
   }
  }
 ],
 "metadata": {
  "kernelspec": {
   "display_name": "Python 3",
   "language": "python",
   "name": "python3"
  },
  "language_info": {
   "codemirror_mode": {
    "name": "ipython",
    "version": 2
   },
   "file_extension": ".py",
   "mimetype": "text/x-python",
   "name": "python",
   "nbconvert_exporter": "python",
   "pygments_lexer": "ipython2",
   "version": "2.7.6"
  },
  "pycharm": {
   "stem_cell": {
    "cell_type": "raw",
    "source": [],
    "metadata": {
     "collapsed": false
    }
   }
  }
 },
 "nbformat": 4,
 "nbformat_minor": 0
}